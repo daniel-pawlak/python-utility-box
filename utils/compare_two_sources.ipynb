{
 "cells": [
  {
   "cell_type": "markdown",
   "metadata": {},
   "source": [
    "This notebook is created to compare two sources: list of Chargers and list of Terminals. Goal of it is to add data to file where terminals data is kept and to find terminals without a match."
   ]
  },
  {
   "cell_type": "code",
   "execution_count": null,
   "metadata": {},
   "outputs": [],
   "source": [
    "import configparser\n",
    "import mariadb\n",
    "import pandas as pd\n",
    "\n",
    "config = configparser.ConfigParser()\n",
    "config.read(r'\\config.ini')\n",
    "\n",
    "try:\n",
    "    connection = mariadb.connect(\n",
    "        user=config['database']['username'],\n",
    "        password=config['database']['password'],\n",
    "        host=config['database']['host'],\n",
    "        port=int(config['database']['port']),\n",
    "        database='db_name'\n",
    "    )\n",
    "    cursor = connection.cursor()\n",
    "except mariadb.Error as e:\n",
    "    print(f\"Error connecting to MariaDB Platform: {e}\")\n"
   ]
  },
  {
   "cell_type": "code",
   "execution_count": null,
   "metadata": {},
   "outputs": [],
   "source": [
    "query = \"\"\"\n",
    "    SELECT *\n",
    "    FROM ChargePointConfigsBig\n",
    "    \"\"\"\n",
    "cursor.execute(query)\n",
    "result = cursor.fetchall()"
   ]
  },
  {
   "cell_type": "code",
   "execution_count": null,
   "metadata": {},
   "outputs": [],
   "source": [
    "df_chargers = pd.DataFrame(result, columns=[col[0] for col in cursor.description])\n",
    "df_chargers"
   ]
  },
  {
   "cell_type": "code",
   "execution_count": null,
   "metadata": {},
   "outputs": [],
   "source": [
    "connection.close()"
   ]
  },
  {
   "cell_type": "code",
   "execution_count": null,
   "metadata": {},
   "outputs": [],
   "source": [
    "df_terminal = pd.read_excel(r\"\\terminals.xlsx\")\n",
    "df_terminal"
   ]
  },
  {
   "cell_type": "code",
   "execution_count": null,
   "metadata": {},
   "outputs": [],
   "source": [
    "df_terminal['Charger Serial No.'] = df_terminal['Charger Serial No.'].astype('str')"
   ]
  },
  {
   "cell_type": "code",
   "execution_count": null,
   "metadata": {},
   "outputs": [],
   "source": [
    "df_terminal.info()"
   ]
  },
  {
   "cell_type": "code",
   "execution_count": null,
   "metadata": {},
   "outputs": [],
   "source": [
    "df_terminal2 = df_terminal.copy()"
   ]
  },
  {
   "cell_type": "code",
   "execution_count": null,
   "metadata": {},
   "outputs": [],
   "source": [
    "df_terminal2 = df_terminal2.merge(df_chargers[['SerialNumber', 'ConfigCleansed', 'LocationFriendlyName', 'FriendlyCode']], left_on='Charger Serial No.', right_on='SerialNumber', how='left').reset_index(drop=True)\n",
    "df_terminal2.drop(columns=['SerialNumber'], inplace=True)\n",
    "\n",
    "df_terminal2.info()"
   ]
  },
  {
   "cell_type": "code",
   "execution_count": null,
   "metadata": {},
   "outputs": [],
   "source": [
    "df_terminal3 = df_terminal2.loc[df_terminal2['ConfigCleansed'].isna()]\n",
    "df_terminal3.info()"
   ]
  },
  {
   "cell_type": "code",
   "execution_count": null,
   "metadata": {},
   "outputs": [],
   "source": [
    "df_terminal3.to_excel('terminal_empties.xlsx', index=False)"
   ]
  },
  {
   "cell_type": "code",
   "execution_count": null,
   "metadata": {},
   "outputs": [],
   "source": [
    "with pd.option_context('display.max_rows', None, 'display.max_columns', None):  # more options can be specified too\n",
    "    print(df_terminal2) "
   ]
  }
 ],
 "metadata": {
  "kernelspec": {
   "display_name": ".venv",
   "language": "python",
   "name": "python3"
  },
  "language_info": {
   "codemirror_mode": {
    "name": "ipython",
    "version": 3
   },
   "file_extension": ".py",
   "mimetype": "text/x-python",
   "name": "python",
   "nbconvert_exporter": "python",
   "pygments_lexer": "ipython3",
   "version": "3.10.11"
  },
  "orig_nbformat": 4
 },
 "nbformat": 4,
 "nbformat_minor": 2
}
