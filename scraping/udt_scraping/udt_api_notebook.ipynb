{
 "cells": [
  {
   "cell_type": "markdown",
   "metadata": {},
   "source": [
    "This script is created to get the list of devices from eUDT site. It uses eUDT API with an authorization token\n",
    "received from UDT Programming Specialist. User has to authenticate authorization token, then use received\n",
    "access_token to get information from eUDT site. Token is valid for 5 minutes, after that it has to be refreshed.\n",
    "Refreshing token is valid for 30 minutes, after that whole authorization process has to be done again."
   ]
  },
  {
   "cell_type": "code",
   "execution_count": null,
   "metadata": {},
   "outputs": [],
   "source": [
    "# import the libraries\n",
    "import json\n",
    "import requests\n",
    "import pprint\n",
    "import pandas as pd"
   ]
  },
  {
   "cell_type": "code",
   "execution_count": null,
   "metadata": {},
   "outputs": [],
   "source": [
    "def authentication(headers, params, api_url):\n",
    "    \"\"\"\n",
    "    This code is used to authenticate my API Token and receive an access token together with refresh token. Access token is valid for 5 minutes,\n",
    "    after that it has to be refreshed with usage of refresh token which is valid 30 minutes. Authentication allows user to use eUdt API.\n",
    "    \"\"\"\n",
    "    response = requests.post(api_url, headers = headers, json=params)\n",
    "\n",
    "    access_token = response.json()[\"accessToken\"]\n",
    "    authorization = f'Bearer {access_token}'\n",
    "\n",
    "    refresh_token = response.json()[\"refreshToken\"]\n",
    "\n",
    "    return authorization, refresh_token"
   ]
  },
  {
   "cell_type": "code",
   "execution_count": null,
   "metadata": {},
   "outputs": [],
   "source": [
    "def logging():\n",
    "    \"\"\"\n",
    "    This code serves for keeping the logging credentials and headers in one place.\n",
    "    \"\"\"\n",
    "    # Opening JSON file\n",
    "    f = open('udt.json')  # d.paw email   \n",
    "\n",
    "    # returns JSON object as a dictionary\n",
    "    data = json.load(f)\n",
    "\n",
    "    # login credentials\n",
    "    email = data['email']\n",
    "    password = data['password']\n",
    "    token = data['token']\n",
    "\n",
    "    headers = {\n",
    "    \"Content-Type\": \"application/json\",\n",
    "    \"X-Api-Token\": token,\n",
    "    }\n",
    "\n",
    "    params = {\n",
    "    \"login\": email,\n",
    "    \"password\": password\n",
    "    }\n",
    "\n",
    "    return headers, params, token"
   ]
  },
  {
   "cell_type": "code",
   "execution_count": null,
   "metadata": {},
   "outputs": [],
   "source": [
    "def get_access(api_url):\n",
    "    \"\"\"\n",
    "    This code is created to get access to eUDT api.\n",
    "    \"\"\"\n",
    "    headers, params, token = logging()\n",
    "\n",
    "    authorization, refresh_token = authentication(headers, params, api_url)\n",
    "\n",
    "    return authorization, refresh_token, token"
   ]
  },
  {
   "cell_type": "code",
   "execution_count": null,
   "metadata": {},
   "outputs": [],
   "source": [
    "def refresh_the_token(api_url, refresh_token, token):\n",
    "    \"\"\"\n",
    "    This code is used to refresh access_token. It is valid for 30 minutes, after that main token has to be authenticated again.\n",
    "    \"\"\"\n",
    "    headers = {\n",
    "    \"Content-Type\": \"application/json\",\n",
    "    \"X-Api-Token\": token,\n",
    "    }\n",
    "    params = {\n",
    "        \"refreshToken\" : refresh_token\n",
    "    }\n",
    "\n",
    "    response = requests.put(api_url, headers = headers, json=params)\n",
    "    refreshed_access_token = response.json()['accessToken']\n",
    "    authorization = f'Bearer {refreshed_access_token}'\n",
    "    \n",
    "    return authorization, refreshed_access_token"
   ]
  },
  {
   "cell_type": "code",
   "execution_count": null,
   "metadata": {},
   "outputs": [],
   "source": [
    "def open_site(authorization, url=None, querystring=\"\"):\n",
    "    \"\"\"\n",
    "    This code is created to take information about the devices from eUDT site.\n",
    "    \"\"\"\n",
    "    payload = \"\"\n",
    "    headers = {\n",
    "    \"authority\": \"api.eudt.gov.pl\",\n",
    "    \"accept\": \"application/json, text/plain, */*\",\n",
    "    \"accept-language\": \"pl,en;q=0.9,en-GB;q=0.8,en-US;q=0.7\",\n",
    "    \"cache-control\": \"no-cache\",\n",
    "    \"cookie\": \"\",\n",
    "    \"expires\": \"0\",\n",
    "    \"origin\": \"https://eudt.gov.pl\",\n",
    "    \"pragma\": \"no-cache\",\n",
    "    \"sec-ch-ua\": \"^\\^Chromium^^;v=^\\^112^^, ^\\^Microsoft\",\n",
    "    \"sec-ch-ua-mobile\": \"?0\",\n",
    "    \"sec-ch-ua-platform\": \"^\\^Windows^^\",\n",
    "    \"sec-fetch-dest\": \"empty\",\n",
    "    \"sec-fetch-mode\": \"cors\",\n",
    "    \"sec-fetch-site\": \"same-site\",\n",
    "    \"user-agent\": \"Mozilla/5.0 (Windows NT 10.0; Win64; x64) AppleWebKit/537.36 (KHTML, like Gecko) Chrome/112.0.0.0 Safari/537.36\",\n",
    "    \"x-context\": \"32283\",\n",
    "    \"x-xsrf-token\": \"YmRlM2ZmNThiMGVlYmE2NmUxN2FjNDZlZjkzMmQxOGQyMDk5MGQ0NjdjNjNmOGJjOTJiMTI4MWMxMmJlNzEwODthOGM1YzZlOS0xNTVjLTRmMTQtOTc4Ni1jNDcwYTVjMTg3ZDc=\",\n",
    "    \"Authorization\" : authorization\n",
    "    }\n",
    "    if url:\n",
    "        url = url\n",
    "    else:\n",
    "        url = \"https://api.eudt.gov.pl/Device\"\n",
    "\n",
    "    # # getting applications\n",
    "    # url = \"https://api.eudt.gov.pl/Application/values\"\n",
    "\n",
    "    response = requests.request(\"GET\", url, data=payload, headers=headers, params=querystring)\n",
    "\n",
    "    return response.json()['data']"
   ]
  },
  {
   "cell_type": "code",
   "execution_count": null,
   "metadata": {},
   "outputs": [],
   "source": [
    "def get_devices_data(api_url, refresh_token, token):\n",
    "    \"\"\"\n",
    "    This is the main function which serves to get all the data about the devices that user has access to.\n",
    "    It takes just 3 positional arguments, api_url is predefined, refresh_token is taken from get_access function,\n",
    "    token is given from eUDT.\n",
    "    \"\"\"\n",
    "    # take data from eUDT site. Try to get it directly, if not available, then refresh the token, if token is not \n",
    "    # valid anymore, authorize it again\n",
    "    try:\n",
    "        data = open_site(authorization)\n",
    "    except:\n",
    "        try:\n",
    "            print(\"refreshing token\")\n",
    "            authorization = refresh_the_token(api_url, refresh_token, token)\n",
    "            data = open_site(authorization)\n",
    "        except:\n",
    "            print(\"get the new token\")\n",
    "            authorization, refresh_token, token = get_access(api_url)\n",
    "            data = open_site(authorization)\n",
    "\n",
    "    # create empty dataframe for keeping data about the devices that the user has access to\n",
    "    df = pd.DataFrame(columns=['Date', \"Operator\", \"Device\", \"Device Type\", \n",
    "                           \"Evidence Number\", \"Factory Number\", \"Year of Construction\",\n",
    "                           \"Number of Charging Points\", \"Status\", \"Address\"], index=range(0))\n",
    "    \n",
    "    pprint.pprint(data)\n",
    "    \n",
    "    # loop through every device to get the details about it\n",
    "    for i in range(len(data)):\n",
    "        df.loc[i, 'Date'] = data[i]['lastInspectionDate'].replace(\"T00:00:00\", \"\")\n",
    "        df.loc[i, 'Device'] = \"{} {}\".format(data[i]['typeDescription'], data[i][\"variantFull\"])\n",
    "        df.loc[i, 'Device Type'] = data[i]['type']\n",
    "        df.loc[i, 'Evidence Number'] = data[i]['udtNumber']\n",
    "        df.loc[i, 'Factory Number'] = data[i]['serialNumber']\n",
    "        df.loc[i, 'Year of Construction'] = data[i]['constructionYear']\n",
    "        df.loc[i, 'Status'] = data[i]['status']\n",
    "        df.loc[i, 'Address'] = \"{} {} {}\".format(data[i]['city'], data[i]['street'], data[i]['streetNo'])\n",
    "        df.loc[i, 'Operator'] = data[i]['userName']\n",
    "\n",
    "    # export excel file with all the data\n",
    "    df.to_excel(\"List of Devices from UDT.xlsx\", index=False)"
   ]
  },
  {
   "cell_type": "code",
   "execution_count": null,
   "metadata": {},
   "outputs": [],
   "source": [
    "def get_invoice_id(api_url, refresh_token, token):\n",
    "    \"\"\"\n",
    "    This is the main function which serves to get all invoices.\n",
    "    It takes just 3 positional arguments, api_url is predefined, refresh_token is taken from get_access function,\n",
    "    token is given from eUDT.\n",
    "    \"\"\"\n",
    "    # take data from eUDT site. Try to get it directly, if not available, then refresh the token, if token is not \n",
    "    # valid anymore, authorize it again\n",
    "    url = \"https://api.eudt.gov.pl/FinancialDocument\"\n",
    "    querystring = {\"sorting.fieldName\":\"Date\",\"sorting.direction\":\"2\",\"rowsRange.skip\":\"0\",\"rowsRange.take\":\"25\"}\n",
    "    try:\n",
    "        data = open_site(authorization, url, querystring)\n",
    "    except:\n",
    "        try:\n",
    "            print(\"refreshing token\")\n",
    "            authorization = refresh_the_token(api_url, refresh_token, token)\n",
    "            data = open_site(authorization, url, querystring)\n",
    "        except:\n",
    "            print(\"get the new token\")\n",
    "            authorization, refresh_token, token = get_access(api_url)\n",
    "            data = open_site(authorization, url, querystring)   \n",
    "\n",
    "    return data "
   ]
  },
  {
   "cell_type": "code",
   "execution_count": null,
   "metadata": {},
   "outputs": [],
   "source": [
    "def get_data_from_api(api_url, authorization, token):\n",
    "    headers = {\n",
    "                \"Authorization\" : authorization,\n",
    "                \"X-Api-Token\": token\n",
    "                }\n",
    "    try:\n",
    "        response = requests.get(api_url, headers=headers)\n",
    "        response.raise_for_status()\n",
    "        data = response.content\n",
    "        return data\n",
    "    except requests.exceptions.RequestException as e:\n",
    "        print(\"Error:\", e)\n",
    "        return None\n",
    "\n",
    "# if __name__ == \"__main__\":\n",
    "#     api_url = \"http://api.eudt.gov.pl/FinancialDocument/2205462/File\" #2205462\n",
    "#     data = get_data_from_api(api_url)\n",
    "\n",
    "#     if data:\n",
    "#         print(\"Retrieved data:\")\n",
    "#         print(data)\n",
    "#     else:\n",
    "#         print(\"Failed to retrieve data from the API.\")\n"
   ]
  },
  {
   "cell_type": "code",
   "execution_count": null,
   "metadata": {},
   "outputs": [],
   "source": [
    "def get_invoice(authorization, api_url, refresh_token, token, id):\n",
    "    \"\"\"\n",
    "    This is the main function which serves to download latest invoice.\n",
    "    It takes just 4 positional arguments, api_url is predefined, refresh_token is taken from get_access function,\n",
    "    token is given from eUDT, id is a result of get_invoice_id function. Id is variable which contains the id of \n",
    "    document which will be downloaded.\n",
    "    \"\"\"\n",
    "    # take data from eUDT site. Try to get it directly, if not available, then refresh the token, if token is not \n",
    "    # valid anymore, authorize it again\n",
    "    url = f\"https://api.eudt.gov.pl/FinancialDocument/{id}/File\"\n",
    "  \n",
    "    # try:\n",
    "    #     data = open_site2(authorization, url)\n",
    "    # except:\n",
    "    try:\n",
    "        print(\"refreshing token\")\n",
    "        authorization, refreshed_access_token = refresh_the_token(api_url, refresh_token, token)\n",
    "        data = get_data_from_api(url, authorization, token)\n",
    "    except:\n",
    "        print(\"get the new token\")\n",
    "        authorization, refresh_token, token = get_access(api_url)\n",
    "        data = get_data_from_api(url, authorization, token)  \n",
    "\n",
    "    return data     "
   ]
  },
  {
   "cell_type": "code",
   "execution_count": null,
   "metadata": {},
   "outputs": [],
   "source": [
    "api_url = \"https://api.eudt.gov.pl/token\"\n",
    "authorization, refresh_token, token = get_access(api_url)"
   ]
  },
  {
   "cell_type": "code",
   "execution_count": null,
   "metadata": {},
   "outputs": [],
   "source": [
    "# get_devices_data(api_url, refresh_token, token)"
   ]
  },
  {
   "cell_type": "code",
   "execution_count": null,
   "metadata": {},
   "outputs": [],
   "source": [
    "data = get_invoice_id(api_url, refresh_token, token)\n",
    "id = data[0]['id']"
   ]
  },
  {
   "cell_type": "code",
   "execution_count": null,
   "metadata": {},
   "outputs": [],
   "source": [
    "response = get_invoice(authorization, api_url, refresh_token, token, id)\n",
    "print(response)"
   ]
  },
  {
   "cell_type": "code",
   "execution_count": null,
   "metadata": {},
   "outputs": [],
   "source": [
    "# Piece of code to export given content to PDF file \n",
    "# The provided content\n",
    "encoded_content = response\n",
    "\n",
    "output_filename = \"decoded.pdf\"\n",
    "with open(output_filename, \"wb\") as output_file:\n",
    "    output_file.write(encoded_content)\n",
    "\n",
    "print(f\"Decoded content saved to {output_filename}\")"
   ]
  }
 ],
 "metadata": {
  "kernelspec": {
   "display_name": "Flask",
   "language": "python",
   "name": "python3"
  },
  "language_info": {
   "codemirror_mode": {
    "name": "ipython",
    "version": 3
   },
   "file_extension": ".py",
   "mimetype": "text/x-python",
   "name": "python",
   "nbconvert_exporter": "python",
   "pygments_lexer": "ipython3",
   "version": "3.10.0"
  },
  "orig_nbformat": 4
 },
 "nbformat": 4,
 "nbformat_minor": 2
}
