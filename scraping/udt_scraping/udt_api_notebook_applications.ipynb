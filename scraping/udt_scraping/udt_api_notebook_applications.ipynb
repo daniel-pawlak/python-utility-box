{
 "cells": [
  {
   "cell_type": "markdown",
   "metadata": {},
   "source": [
    "This script is created to get the list of devices from eUDT site. It uses eUDT API with an authorization token\n",
    "received from UDT Programming Specialist. User has to authenticate authorization token, then use received\n",
    "access_token to get information from eUDT site. Token is valid for 5 minutes, after that it has to be refreshed.\n",
    "Refreshing token is valid for 30 minutes, after that whole authorization process has to be done again."
   ]
  },
  {
   "cell_type": "code",
   "execution_count": null,
   "metadata": {},
   "outputs": [],
   "source": [
    "# import the libraries\n",
    "import json\n",
    "import requests\n",
    "import pprint\n",
    "import pandas as pd"
   ]
  },
  {
   "cell_type": "code",
   "execution_count": null,
   "metadata": {},
   "outputs": [],
   "source": [
    "def authentication(headers, params, api_url):\n",
    "    \"\"\"\n",
    "    This code is used to authenticate my API Token and receive an access token together with refresh token. Access token is valid for 5 minutes,\n",
    "    after that it has to be refreshed with usage of refresh token which is valid 30 minutes. Authentication allows user to use eUdt API.\n",
    "    \"\"\"\n",
    "    response = requests.post(api_url, headers = headers, json=params)\n",
    "\n",
    "    access_token = response.json()[\"accessToken\"]\n",
    "    authorization = f'Bearer {access_token}'\n",
    "\n",
    "    refresh_token = response.json()[\"refreshToken\"]\n",
    "\n",
    "    return authorization, refresh_token"
   ]
  },
  {
   "cell_type": "code",
   "execution_count": null,
   "metadata": {},
   "outputs": [],
   "source": [
    "def refresh_the_token(api_url, refresh_token, token):\n",
    "    \"\"\"\n",
    "    This code is used to refresh access_token. It is valid for 30 minutes, after that main token has to be authenticated again\n",
    "    \"\"\"\n",
    "    headers = {\n",
    "    \"Content-Type\": \"application/json\",\n",
    "    \"X-Api-Token\": token,\n",
    "    }\n",
    "    params = {\n",
    "        \"refreshToken\" : refresh_token\n",
    "    }\n",
    "\n",
    "    response = requests.put(api_url, headers = headers, json=params)\n",
    "\n",
    "    access_token = response.json()['accessToken']\n",
    "    authorization = f'Bearer {access_token}'\n",
    "\n",
    "    return authorization"
   ]
  },
  {
   "cell_type": "code",
   "execution_count": null,
   "metadata": {},
   "outputs": [],
   "source": [
    "def logging():\n",
    "    \"\"\"\n",
    "    This code serves for keeping the logging credentials and headers in one place.\n",
    "    \"\"\"\n",
    "    # Opening JSON file\n",
    "    f = open('udt.json')  # d.paw email   \n",
    "\n",
    "    # returns JSON object as a dictionary\n",
    "    data = json.load(f)\n",
    "\n",
    "    # login credentials\n",
    "    email = data['email']\n",
    "    password = data['password']\n",
    "    token = data['token']\n",
    "\n",
    "    headers = {\n",
    "    \"Content-Type\": \"application/json\",\n",
    "    \"X-Api-Token\": token,\n",
    "    }\n",
    "\n",
    "    params = {\n",
    "    \"login\": email,\n",
    "    \"password\": password\n",
    "    }\n",
    "\n",
    "    return headers, params, token"
   ]
  },
  {
   "cell_type": "code",
   "execution_count": null,
   "metadata": {},
   "outputs": [],
   "source": [
    "def get_access(api_url):\n",
    "    \"\"\"\n",
    "    This code is created to get access to eUDT api.\n",
    "    \"\"\"\n",
    "    headers, params, token = logging()\n",
    "\n",
    "    authorization, refresh_token = authentication(headers, params, api_url)\n",
    "\n",
    "    return authorization, refresh_token, token"
   ]
  },
  {
   "cell_type": "code",
   "execution_count": null,
   "metadata": {},
   "outputs": [],
   "source": [
    "def open_site(authorization, id=False):\n",
    "    \"\"\"\n",
    "    This code is created to take information about the devices from eUDT site.\n",
    "    \"\"\"\n",
    "    if id:\n",
    "        id = \"/\" + id\n",
    "    else:\n",
    "        id = \"\"\n",
    "        \n",
    "    payload = \"\"\n",
    "\n",
    "    headers = {\n",
    "    \"authority\": \"api.eudt.gov.pl\",\n",
    "    \"accept\": \"application/json, text/plain, */*\",\n",
    "    \"accept-language\": \"pl,en;q=0.9,en-GB;q=0.8,en-US;q=0.7\",\n",
    "    \"cache-control\": \"no-cache\",\n",
    "    \"cookie\": \"\",\n",
    "    \"expires\": \"0\",\n",
    "    \"origin\": \"https://eudt.gov.pl\",\n",
    "    \"pragma\": \"no-cache\",\n",
    "    \"sec-ch-ua\": \"^\\^Chromium^^;v=^\\^112^^, ^\\^Microsoft\",\n",
    "    \"sec-ch-ua-mobile\": \"?0\",\n",
    "    \"sec-ch-ua-platform\": \"^\\^Windows^^\",\n",
    "    \"sec-fetch-dest\": \"empty\",\n",
    "    \"sec-fetch-mode\": \"cors\",\n",
    "    \"sec-fetch-site\": \"same-site\",\n",
    "    \"user-agent\": \"Mozilla/5.0 (Windows NT 10.0; Win64; x64) AppleWebKit/537.36 (KHTML, like Gecko) Chrome/112.0.0.0 Safari/537.36\",\n",
    "    \"x-context\": \"32283\",\n",
    "    \"x-xsrf-token\": \"YmRlM2ZmNThiMGVlYmE2NmUxN2FjNDZlZjkzMmQxOGQyMDk5MGQ0NjdjNjNmOGJjOTJiMTI4MWMxMmJlNzEwODthOGM1YzZlOS0xNTVjLTRmMTQtOTc4Ni1jNDcwYTVjMTg3ZDc=\",\n",
    "    \"Authorization\" : authorization\n",
    "    }\n",
    "\n",
    "    # getting applications\n",
    "    url = \"https://api.eudt.gov.pl/Application\" + id\n",
    "    # url = \"https://api.eudt.gov.pl/Device\"\n",
    "    # print(\"tu jestem\")\n",
    "\n",
    "    response = requests.request(\"GET\", url, data=payload, headers=headers)\n",
    "    # print(\"kolejny krok\")\n",
    "\n",
    "    # pprint.pprint(response.json()['number'])\n",
    "\n",
    "    # return response.json()['data']\n",
    "    return response.json()"
   ]
  },
  {
   "cell_type": "code",
   "execution_count": null,
   "metadata": {},
   "outputs": [],
   "source": [
    "def get_numbers(ids_data, authorization, api_url, refresh_token, token):\n",
    "    list_of_ids = {}\n",
    "    for i in ids_data:\n",
    "        id = str(i['id'])\n",
    "        try:\n",
    "            number = open_site(authorization, id)\n",
    "        except:\n",
    "            print(\"refreshing for numbers\")\n",
    "            authorization = refresh_the_token(api_url, refresh_token, token)\n",
    "            print(\"refreshed\")\n",
    "            number = open_site(authorization, id)\n",
    "\n",
    "        list_of_ids[id] = number\n",
    "           \n",
    "    return list_of_ids"
   ]
  },
  {
   "cell_type": "code",
   "execution_count": null,
   "metadata": {},
   "outputs": [],
   "source": [
    "def get_applications_data(api_url, refresh_token, token):\n",
    "    \"\"\"\n",
    "    This is the main function which serves to get all the data about the devices that user has access to.\n",
    "    It takes just 3 positional arguments, api_url is predefined, refresh_token is taken from get_access function,\n",
    "    token is given from eUDT.\n",
    "    \"\"\"\n",
    "    # take data from eUDT site. Try to get it directly, if not available, then refresh the token, if token is not \n",
    "    # valid anymore, authorize it again\n",
    "    try:\n",
    "        json_data = open_site(authorization)\n",
    "\n",
    "    except:\n",
    "        try:\n",
    "            print(\"refreshing token\")\n",
    "            authorization = refresh_the_token(api_url, refresh_token, token)\n",
    "            json_data = open_site(authorization)\n",
    "\n",
    "        except:\n",
    "            print(\"get the new token\")\n",
    "            authorization, refresh_token, token = get_access(api_url)\n",
    "            json_data = open_site(authorization)\n",
    "    \n",
    "    ids_data = json_data['data']\n",
    "\n",
    "    list_of_ids = get_numbers(ids_data, authorization, api_url, refresh_token, token)\n",
    "    print(list_of_ids)\n",
    "   \n",
    "    # create empty dataframe for keeping data about the devices that the user has access to\n",
    "    df = pd.DataFrame(columns=[\"ID\", \"Number\"], index=range(0))\n",
    "\n",
    "    # loop through every device to get the details about it\n",
    "    for i, (key, value) in enumerate(list_of_ids.items()):\n",
    "        df.loc[i, 'ID'] = key\n",
    "        df.loc[i, 'Number'] = value\n",
    "\n",
    "    # export excel file with all the data\n",
    "    df.to_excel(\"List of Applications from UDT.xlsx\", index=False)"
   ]
  },
  {
   "cell_type": "code",
   "execution_count": null,
   "metadata": {},
   "outputs": [],
   "source": [
    "api_url = \"https://api.eudt.gov.pl/token\"\n",
    "authorization, refresh_token, token = get_access(api_url)"
   ]
  },
  {
   "cell_type": "code",
   "execution_count": null,
   "metadata": {},
   "outputs": [],
   "source": [
    "get_applications_data(api_url, refresh_token, token)"
   ]
  }
 ],
 "metadata": {
  "kernelspec": {
   "display_name": "Flask",
   "language": "python",
   "name": "python3"
  },
  "language_info": {
   "codemirror_mode": {
    "name": "ipython",
    "version": 3
   },
   "file_extension": ".py",
   "mimetype": "text/x-python",
   "name": "python",
   "nbconvert_exporter": "python",
   "pygments_lexer": "ipython3",
   "version": "3.10.0"
  },
  "orig_nbformat": 4
 },
 "nbformat": 4,
 "nbformat_minor": 2
}
